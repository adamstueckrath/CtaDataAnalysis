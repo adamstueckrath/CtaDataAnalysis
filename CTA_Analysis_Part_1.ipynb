{
 "cells": [
  {
   "cell_type": "markdown",
   "metadata": {},
   "source": [
    "# CTA Data Analysis - ETL\n",
    "---\n",
    "## Outline\n",
    "This is part one of a two part analysis of the CTA Ridership data. In this section, I will focus on pulling the data from the CTA website via API, cleaning and standardizing the data, and then loading the data to a SQLite database. \n",
    "\n",
    "1. Pull CTA Data Using API (Extract)\n",
    "2. Clean and Standardize Data (Transform)\n",
    "3. Normalize Data (Transform)\n",
    "4. Store Data in SQLite (Load)\n"
   ]
  },
  {
   "cell_type": "code",
   "execution_count": 1,
   "metadata": {},
   "outputs": [],
   "source": [
    "import pandas as pd\n",
    "import sodapy\n",
    "\n",
    "# remove Socrata API warnings about unauthenticated cleints\n",
    "import warnings\n",
    "warnings.simplefilter('ignore')\n"
   ]
  },
  {
   "cell_type": "markdown",
   "metadata": {},
   "source": [
    "## Pull CTA Data Using API (Extract)\n",
    "Socrata hosts over one hundred different data catalogs for governments, non-profits, and NGOs around the world, which can be easily pulled via API. Every Socrata open dataset has a built-in SODA API. I'm going to be using an unauthenticated client, which only works with public data sets. \n",
    "\n",
    "Since I'm using an unauthenticated client, sodapy defaults my reuslts to 1,000 rows. However, if I set the limit myself I can avoid that. The CTA documentation states the max of rows of the data set is 11,593, which is why I set the limit to 12,000."
   ]
  },
  {
   "cell_type": "code",
   "execution_count": 2,
   "metadata": {},
   "outputs": [
    {
     "name": "stderr",
     "output_type": "stream",
     "text": [
      "WARNING:root:Requests made without an app_token will be subject to strict throttling limits.\n"
     ]
    }
   ],
   "source": [
    "# unauthenticated client only works with public data sets\n",
    "# Note 'None' in place of application token, and no username or password\n",
    "client = sodapy.Socrata(\"data.cityofchicago.org\", None)\n"
   ]
  },
  {
   "cell_type": "code",
   "execution_count": 3,
   "metadata": {},
   "outputs": [],
   "source": [
    "# dataset identifier: 5eg2-c264 \n",
    "# client returned as JSON from API converted to Python list of dictionaries by sodapy\n",
    "cta_data = client.get(\"5eg2-c264\", limit=12000)\n"
   ]
  },
  {
   "cell_type": "code",
   "execution_count": 4,
   "metadata": {},
   "outputs": [
    {
     "data": {
      "text/html": [
       "<div>\n",
       "<style scoped>\n",
       "    .dataframe tbody tr th:only-of-type {\n",
       "        vertical-align: middle;\n",
       "    }\n",
       "\n",
       "    .dataframe tbody tr th {\n",
       "        vertical-align: top;\n",
       "    }\n",
       "\n",
       "    .dataframe thead th {\n",
       "        text-align: right;\n",
       "    }\n",
       "</style>\n",
       "<table border=\"1\" class=\"dataframe\">\n",
       "  <thead>\n",
       "    <tr style=\"text-align: right;\">\n",
       "      <th></th>\n",
       "      <th>alightings</th>\n",
       "      <th>boardings</th>\n",
       "      <th>cross_street</th>\n",
       "      <th>daytype</th>\n",
       "      <th>location</th>\n",
       "      <th>month</th>\n",
       "      <th>on_street</th>\n",
       "      <th>routes</th>\n",
       "      <th>stop_id</th>\n",
       "    </tr>\n",
       "  </thead>\n",
       "  <tbody>\n",
       "    <tr>\n",
       "      <th>0</th>\n",
       "      <td>150.0</td>\n",
       "      <td>183.4</td>\n",
       "      <td>AUSTIN</td>\n",
       "      <td>Weekday</td>\n",
       "      <td>{'type': 'Point', 'coordinates': [-87.77410482...</td>\n",
       "      <td>2012-10-01T00:00:00.000</td>\n",
       "      <td>JACKSON</td>\n",
       "      <td>126</td>\n",
       "      <td>1</td>\n",
       "    </tr>\n",
       "    <tr>\n",
       "      <th>1</th>\n",
       "      <td>0.2</td>\n",
       "      <td>5.3</td>\n",
       "      <td>MAYFIELD (EXTENDED)</td>\n",
       "      <td>Weekday</td>\n",
       "      <td>{'type': 'Point', 'coordinates': [-87.77131794...</td>\n",
       "      <td>2012-10-01T00:00:00.000</td>\n",
       "      <td>JACKSON</td>\n",
       "      <td>126</td>\n",
       "      <td>2</td>\n",
       "    </tr>\n",
       "    <tr>\n",
       "      <th>2</th>\n",
       "      <td>0.7</td>\n",
       "      <td>8.3</td>\n",
       "      <td>MENARD</td>\n",
       "      <td>Weekday</td>\n",
       "      <td>{'type': 'Point', 'coordinates': [-87.76975039...</td>\n",
       "      <td>2012-10-01T00:00:00.000</td>\n",
       "      <td>JACKSON</td>\n",
       "      <td>126</td>\n",
       "      <td>3</td>\n",
       "    </tr>\n",
       "    <tr>\n",
       "      <th>3</th>\n",
       "      <td>3.0</td>\n",
       "      <td>17.9</td>\n",
       "      <td>5700 WEST</td>\n",
       "      <td>Weekday</td>\n",
       "      <td>{'type': 'Point', 'coordinates': [-87.76745055...</td>\n",
       "      <td>2012-10-01T00:00:00.000</td>\n",
       "      <td>JACKSON</td>\n",
       "      <td>126</td>\n",
       "      <td>4</td>\n",
       "    </tr>\n",
       "    <tr>\n",
       "      <th>4</th>\n",
       "      <td>11.2</td>\n",
       "      <td>74.0</td>\n",
       "      <td>LOTUS</td>\n",
       "      <td>Weekday</td>\n",
       "      <td>{'type': 'Point', 'coordinates': [-87.761446, ...</td>\n",
       "      <td>2012-10-01T00:00:00.000</td>\n",
       "      <td>JACKSON</td>\n",
       "      <td>126</td>\n",
       "      <td>6</td>\n",
       "    </tr>\n",
       "  </tbody>\n",
       "</table>\n",
       "</div>"
      ],
      "text/plain": [
       "  alightings boardings         cross_street  daytype  \\\n",
       "0      150.0     183.4               AUSTIN  Weekday   \n",
       "1        0.2       5.3  MAYFIELD (EXTENDED)  Weekday   \n",
       "2        0.7       8.3               MENARD  Weekday   \n",
       "3        3.0      17.9            5700 WEST  Weekday   \n",
       "4       11.2      74.0                LOTUS  Weekday   \n",
       "\n",
       "                                            location                    month  \\\n",
       "0  {'type': 'Point', 'coordinates': [-87.77410482...  2012-10-01T00:00:00.000   \n",
       "1  {'type': 'Point', 'coordinates': [-87.77131794...  2012-10-01T00:00:00.000   \n",
       "2  {'type': 'Point', 'coordinates': [-87.76975039...  2012-10-01T00:00:00.000   \n",
       "3  {'type': 'Point', 'coordinates': [-87.76745055...  2012-10-01T00:00:00.000   \n",
       "4  {'type': 'Point', 'coordinates': [-87.761446, ...  2012-10-01T00:00:00.000   \n",
       "\n",
       "  on_street routes stop_id  \n",
       "0   JACKSON    126       1  \n",
       "1   JACKSON    126       2  \n",
       "2   JACKSON    126       3  \n",
       "3   JACKSON    126       4  \n",
       "4   JACKSON    126       6  "
      ]
     },
     "execution_count": 4,
     "metadata": {},
     "output_type": "execute_result"
    }
   ],
   "source": [
    "# convert to pandas DataFrame using from_records \n",
    "cta_df = pd.DataFrame.from_records(cta_data)\n",
    "\n",
    "# view the first 5 rows of the data \n",
    "cta_df.head()\n"
   ]
  },
  {
   "cell_type": "markdown",
   "metadata": {},
   "source": [
    "### Describe the shape and data types of dataframe\n",
    "Since the data is unknown to me, I need to do basic analysis. For example, what's the shape of my data and what are the data types of each column?   "
   ]
  },
  {
   "cell_type": "code",
   "execution_count": 5,
   "metadata": {},
   "outputs": [
    {
     "data": {
      "text/plain": [
       "(11593, 9)"
      ]
     },
     "execution_count": 5,
     "metadata": {},
     "output_type": "execute_result"
    }
   ],
   "source": [
    "# describe the shape of dataframe\n",
    "cta_df.shape\n"
   ]
  },
  {
   "cell_type": "code",
   "execution_count": 6,
   "metadata": {},
   "outputs": [
    {
     "data": {
      "text/plain": [
       "alightings      object\n",
       "boardings       object\n",
       "cross_street    object\n",
       "daytype         object\n",
       "location        object\n",
       "month           object\n",
       "on_street       object\n",
       "routes          object\n",
       "stop_id         object\n",
       "dtype: object"
      ]
     },
     "execution_count": 6,
     "metadata": {},
     "output_type": "execute_result"
    }
   ],
   "source": [
    "# understand the data types\n",
    "cta_df.dtypes\n"
   ]
  },
  {
   "cell_type": "markdown",
   "metadata": {},
   "source": [
    "### Data dictionary of columns\n",
    "CTA - Ridership - Avg. Weekday Bus Stop Boardings in October 2012\n",
    "This dataset shows approximate, average, weekday boardings by bus stop from the month of October 2012.\n",
    "\n",
    "* `stop_id:` unique identifier of bus stops\n",
    "* `on_street:` name of street where stop is located on\n",
    "* `cross_street:` name of street crossing with or connecting to street where stop is located\n",
    "* `routes:` identifier of bus routes\n",
    "* `month_beginning:`date of first of the month\n",
    "* `day_type:` name of day ridership was reported on  \n",
    "* `location:` point coordinates of stop location\n",
    "* `boardings:` number of passengers boarding a bus \n",
    "* `alightings:`number of passengers exiting a bus "
   ]
  },
  {
   "cell_type": "markdown",
   "metadata": {},
   "source": [
    "### Write dataframe to cvs file for further investigation in Excel\n",
    "I need to decide what’s important for the analysis, and I want to get familiar with the data. Sometimes working with Excel is necessary for gaining a better understanding of a data set. My main purpose for using excel is to understand how I should clean and structure my data."
   ]
  },
  {
   "cell_type": "code",
   "execution_count": 7,
   "metadata": {},
   "outputs": [],
   "source": [
    "# write data to csv file \n",
    "cta_df.to_csv('data/CTA_Ridership_October_2012.csv')\n"
   ]
  },
  {
   "cell_type": "markdown",
   "metadata": {},
   "source": [
    "## Clean and Standardize Data (Transform)\n",
    "While I was investigating the data in Excel, I noticed there are discrepandies between the data set returned with the API and the online data set. Below I've listed out the following steps I'm going to take to clean the data:\n",
    "\n",
    "1. Find any null values, and remove them if necessary\n",
    "2. Rename columns `daytype` and `month` into the following: `day_type` and `month_beginnging`\n",
    "3. Transform `location` column from a dictionary into seperate columns of `longitude` and `latitude`\n",
    "4. Make `day_type` column uppercase (match the same string format as other columns)\n",
    "6. Set the data types of the columns\n",
    "7. Reorder columns to match the online data set"
   ]
  },
  {
   "cell_type": "markdown",
   "metadata": {},
   "source": [
    "### Step 1: Find any null values"
   ]
  },
  {
   "cell_type": "code",
   "execution_count": 8,
   "metadata": {},
   "outputs": [
    {
     "data": {
      "text/html": [
       "<div>\n",
       "<style scoped>\n",
       "    .dataframe tbody tr th:only-of-type {\n",
       "        vertical-align: middle;\n",
       "    }\n",
       "\n",
       "    .dataframe tbody tr th {\n",
       "        vertical-align: top;\n",
       "    }\n",
       "\n",
       "    .dataframe thead th {\n",
       "        text-align: right;\n",
       "    }\n",
       "</style>\n",
       "<table border=\"1\" class=\"dataframe\">\n",
       "  <thead>\n",
       "    <tr style=\"text-align: right;\">\n",
       "      <th></th>\n",
       "      <th>alightings</th>\n",
       "      <th>boardings</th>\n",
       "      <th>cross_street</th>\n",
       "      <th>daytype</th>\n",
       "      <th>location</th>\n",
       "      <th>month</th>\n",
       "      <th>on_street</th>\n",
       "      <th>routes</th>\n",
       "      <th>stop_id</th>\n",
       "    </tr>\n",
       "  </thead>\n",
       "  <tbody>\n",
       "    <tr>\n",
       "      <th>6642</th>\n",
       "      <td>35.2</td>\n",
       "      <td>62.4</td>\n",
       "      <td>KEELER</td>\n",
       "      <td>Weekday</td>\n",
       "      <td>{'type': 'Point', 'coordinates': [-87.73212, 4...</td>\n",
       "      <td>2012-10-01T00:00:00.000</td>\n",
       "      <td>BELMONT</td>\n",
       "      <td>NaN</td>\n",
       "      <td>9267</td>\n",
       "    </tr>\n",
       "    <tr>\n",
       "      <th>9211</th>\n",
       "      <td>185.5</td>\n",
       "      <td>2.1</td>\n",
       "      <td>LAKE SHORE</td>\n",
       "      <td>Weekday</td>\n",
       "      <td>{'type': 'Point', 'coordinates': [-87.64355208...</td>\n",
       "      <td>2012-10-01T00:00:00.000</td>\n",
       "      <td>ADDISON</td>\n",
       "      <td>NaN</td>\n",
       "      <td>12548</td>\n",
       "    </tr>\n",
       "  </tbody>\n",
       "</table>\n",
       "</div>"
      ],
      "text/plain": [
       "     alightings boardings cross_street  daytype  \\\n",
       "6642       35.2      62.4       KEELER  Weekday   \n",
       "9211      185.5       2.1   LAKE SHORE  Weekday   \n",
       "\n",
       "                                               location  \\\n",
       "6642  {'type': 'Point', 'coordinates': [-87.73212, 4...   \n",
       "9211  {'type': 'Point', 'coordinates': [-87.64355208...   \n",
       "\n",
       "                        month on_street routes stop_id  \n",
       "6642  2012-10-01T00:00:00.000   BELMONT    NaN    9267  \n",
       "9211  2012-10-01T00:00:00.000   ADDISON    NaN   12548  "
      ]
     },
     "execution_count": 8,
     "metadata": {},
     "output_type": "execute_result"
    }
   ],
   "source": [
    "# Use isnull and any to build a boolean Series and use that to index my frame\n",
    "cta_df[cta_df.isnull().any(axis=1)]\n"
   ]
  },
  {
   "cell_type": "markdown",
   "metadata": {},
   "source": [
    "I'm going to drop the two rows beause they're missing a fundamental piece of data. How can you have 62.4 boardings and 35.2 alightings when you don't even have a bus? I also don't need them to answer the questions below and they might cause a conflict when I'm doing further analysis. For example,  on `alightings` and `boardings` columns.\n",
    "\n",
    "Questions:\n",
    "1. What is the route with the most stops?\n",
    "2. What is the stop with the most routes?"
   ]
  },
  {
   "cell_type": "code",
   "execution_count": 9,
   "metadata": {},
   "outputs": [
    {
     "data": {
      "text/plain": [
       "(11591, 9)"
      ]
     },
     "execution_count": 9,
     "metadata": {},
     "output_type": "execute_result"
    }
   ],
   "source": [
    "# drop the two rows and reset the index\n",
    "cta_df = cta_df.dropna()  \n",
    "cta_df = cta_df.reset_index(drop=True)\n",
    "\n",
    "# print the shape of the dataframe after dropping rows with NaN\n",
    "cta_df.shape\n"
   ]
  },
  {
   "cell_type": "markdown",
   "metadata": {},
   "source": [
    "### Step 2: Rename columns"
   ]
  },
  {
   "cell_type": "code",
   "execution_count": 10,
   "metadata": {},
   "outputs": [],
   "source": [
    "# rename column daytype to day_type\n",
    "cta_df = cta_df.rename({'daytype':'day_type', \n",
    "                        'month':'month_beginning'}, axis='columns')\n"
   ]
  },
  {
   "cell_type": "markdown",
   "metadata": {},
   "source": [
    "### Step 3: Transform location into longitude and latitude columns"
   ]
  },
  {
   "cell_type": "markdown",
   "metadata": {},
   "source": [
    "I need to transform the location column from a dictionary into seperate columns of longitude and latitude. Note, the API documentation on the field: \n",
    "> Heads up! Contrary to the normal convention of \"latitude, longitude\" orderingin the coordinates property, order the coordinates as \"longitude, latitude\""
   ]
  },
  {
   "cell_type": "code",
   "execution_count": 11,
   "metadata": {},
   "outputs": [
    {
     "data": {
      "text/html": [
       "<div>\n",
       "<style scoped>\n",
       "    .dataframe tbody tr th:only-of-type {\n",
       "        vertical-align: middle;\n",
       "    }\n",
       "\n",
       "    .dataframe tbody tr th {\n",
       "        vertical-align: top;\n",
       "    }\n",
       "\n",
       "    .dataframe thead th {\n",
       "        text-align: right;\n",
       "    }\n",
       "</style>\n",
       "<table border=\"1\" class=\"dataframe\">\n",
       "  <thead>\n",
       "    <tr style=\"text-align: right;\">\n",
       "      <th></th>\n",
       "      <th>alightings</th>\n",
       "      <th>boardings</th>\n",
       "      <th>cross_street</th>\n",
       "      <th>day_type</th>\n",
       "      <th>month_beginning</th>\n",
       "      <th>on_street</th>\n",
       "      <th>routes</th>\n",
       "      <th>stop_id</th>\n",
       "      <th>longitude</th>\n",
       "      <th>latitude</th>\n",
       "    </tr>\n",
       "  </thead>\n",
       "  <tbody>\n",
       "    <tr>\n",
       "      <th>0</th>\n",
       "      <td>150.0</td>\n",
       "      <td>183.4</td>\n",
       "      <td>AUSTIN</td>\n",
       "      <td>Weekday</td>\n",
       "      <td>2012-10-01T00:00:00.000</td>\n",
       "      <td>JACKSON</td>\n",
       "      <td>126</td>\n",
       "      <td>1</td>\n",
       "      <td>-87.77410482</td>\n",
       "      <td>41.87632184</td>\n",
       "    </tr>\n",
       "    <tr>\n",
       "      <th>1</th>\n",
       "      <td>0.2</td>\n",
       "      <td>5.3</td>\n",
       "      <td>MAYFIELD (EXTENDED)</td>\n",
       "      <td>Weekday</td>\n",
       "      <td>2012-10-01T00:00:00.000</td>\n",
       "      <td>JACKSON</td>\n",
       "      <td>126</td>\n",
       "      <td>2</td>\n",
       "      <td>-87.77131794</td>\n",
       "      <td>41.87706679</td>\n",
       "    </tr>\n",
       "    <tr>\n",
       "      <th>2</th>\n",
       "      <td>0.7</td>\n",
       "      <td>8.3</td>\n",
       "      <td>MENARD</td>\n",
       "      <td>Weekday</td>\n",
       "      <td>2012-10-01T00:00:00.000</td>\n",
       "      <td>JACKSON</td>\n",
       "      <td>126</td>\n",
       "      <td>3</td>\n",
       "      <td>-87.76975039</td>\n",
       "      <td>41.87695725</td>\n",
       "    </tr>\n",
       "    <tr>\n",
       "      <th>3</th>\n",
       "      <td>3.0</td>\n",
       "      <td>17.9</td>\n",
       "      <td>5700 WEST</td>\n",
       "      <td>Weekday</td>\n",
       "      <td>2012-10-01T00:00:00.000</td>\n",
       "      <td>JACKSON</td>\n",
       "      <td>126</td>\n",
       "      <td>4</td>\n",
       "      <td>-87.76745055</td>\n",
       "      <td>41.87702418</td>\n",
       "    </tr>\n",
       "    <tr>\n",
       "      <th>4</th>\n",
       "      <td>11.2</td>\n",
       "      <td>74.0</td>\n",
       "      <td>LOTUS</td>\n",
       "      <td>Weekday</td>\n",
       "      <td>2012-10-01T00:00:00.000</td>\n",
       "      <td>JACKSON</td>\n",
       "      <td>126</td>\n",
       "      <td>6</td>\n",
       "      <td>-87.761446</td>\n",
       "      <td>41.876513</td>\n",
       "    </tr>\n",
       "  </tbody>\n",
       "</table>\n",
       "</div>"
      ],
      "text/plain": [
       "  alightings boardings         cross_street day_type          month_beginning  \\\n",
       "0      150.0     183.4               AUSTIN  Weekday  2012-10-01T00:00:00.000   \n",
       "1        0.2       5.3  MAYFIELD (EXTENDED)  Weekday  2012-10-01T00:00:00.000   \n",
       "2        0.7       8.3               MENARD  Weekday  2012-10-01T00:00:00.000   \n",
       "3        3.0      17.9            5700 WEST  Weekday  2012-10-01T00:00:00.000   \n",
       "4       11.2      74.0                LOTUS  Weekday  2012-10-01T00:00:00.000   \n",
       "\n",
       "  on_street routes stop_id     longitude     latitude  \n",
       "0   JACKSON    126       1  -87.77410482  41.87632184  \n",
       "1   JACKSON    126       2  -87.77131794  41.87706679  \n",
       "2   JACKSON    126       3  -87.76975039  41.87695725  \n",
       "3   JACKSON    126       4  -87.76745055  41.87702418  \n",
       "4   JACKSON    126       6    -87.761446    41.876513  "
      ]
     },
     "execution_count": 11,
     "metadata": {},
     "output_type": "execute_result"
    }
   ],
   "source": [
    "# transform location column from dictionary \n",
    "# into columns of longitude, latitude\n",
    "cta_df['location'] = cta_df['location'].apply(lambda x: x['coordinates'])\n",
    "\n",
    "# create dataframe of locations split into longitude and latitude columns\n",
    "coords_df = pd.DataFrame(cta_df.location.values.tolist(), \n",
    "                         columns=['longitude','latitude'], \n",
    "                         index=cta_df.index, \n",
    "                         dtype=str)\n",
    "\n",
    "# coords_df join back into main cta_df dataframe using the same index\n",
    "cta_df = pd.merge(cta_df, coords_df, \n",
    "                  right_index=True, \n",
    "                  left_index=True)\n",
    "\n",
    "# drop the location column since it's split into longitude and latitude\n",
    "cta_df = cta_df.drop(['location'], axis=1)\n",
    "\n",
    "cta_df.head()\n"
   ]
  },
  {
   "cell_type": "markdown",
   "metadata": {},
   "source": [
    "### Step 4: Make day_type column uppercase"
   ]
  },
  {
   "cell_type": "code",
   "execution_count": 12,
   "metadata": {},
   "outputs": [
    {
     "data": {
      "text/html": [
       "<div>\n",
       "<style scoped>\n",
       "    .dataframe tbody tr th:only-of-type {\n",
       "        vertical-align: middle;\n",
       "    }\n",
       "\n",
       "    .dataframe tbody tr th {\n",
       "        vertical-align: top;\n",
       "    }\n",
       "\n",
       "    .dataframe thead th {\n",
       "        text-align: right;\n",
       "    }\n",
       "</style>\n",
       "<table border=\"1\" class=\"dataframe\">\n",
       "  <thead>\n",
       "    <tr style=\"text-align: right;\">\n",
       "      <th></th>\n",
       "      <th>alightings</th>\n",
       "      <th>boardings</th>\n",
       "      <th>cross_street</th>\n",
       "      <th>day_type</th>\n",
       "      <th>month_beginning</th>\n",
       "      <th>on_street</th>\n",
       "      <th>routes</th>\n",
       "      <th>stop_id</th>\n",
       "      <th>longitude</th>\n",
       "      <th>latitude</th>\n",
       "    </tr>\n",
       "  </thead>\n",
       "  <tbody>\n",
       "    <tr>\n",
       "      <th>0</th>\n",
       "      <td>150.0</td>\n",
       "      <td>183.4</td>\n",
       "      <td>AUSTIN</td>\n",
       "      <td>WEEKDAY</td>\n",
       "      <td>2012-10-01T00:00:00.000</td>\n",
       "      <td>JACKSON</td>\n",
       "      <td>126</td>\n",
       "      <td>1</td>\n",
       "      <td>-87.77410482</td>\n",
       "      <td>41.87632184</td>\n",
       "    </tr>\n",
       "    <tr>\n",
       "      <th>1</th>\n",
       "      <td>0.2</td>\n",
       "      <td>5.3</td>\n",
       "      <td>MAYFIELD (EXTENDED)</td>\n",
       "      <td>WEEKDAY</td>\n",
       "      <td>2012-10-01T00:00:00.000</td>\n",
       "      <td>JACKSON</td>\n",
       "      <td>126</td>\n",
       "      <td>2</td>\n",
       "      <td>-87.77131794</td>\n",
       "      <td>41.87706679</td>\n",
       "    </tr>\n",
       "    <tr>\n",
       "      <th>2</th>\n",
       "      <td>0.7</td>\n",
       "      <td>8.3</td>\n",
       "      <td>MENARD</td>\n",
       "      <td>WEEKDAY</td>\n",
       "      <td>2012-10-01T00:00:00.000</td>\n",
       "      <td>JACKSON</td>\n",
       "      <td>126</td>\n",
       "      <td>3</td>\n",
       "      <td>-87.76975039</td>\n",
       "      <td>41.87695725</td>\n",
       "    </tr>\n",
       "    <tr>\n",
       "      <th>3</th>\n",
       "      <td>3.0</td>\n",
       "      <td>17.9</td>\n",
       "      <td>5700 WEST</td>\n",
       "      <td>WEEKDAY</td>\n",
       "      <td>2012-10-01T00:00:00.000</td>\n",
       "      <td>JACKSON</td>\n",
       "      <td>126</td>\n",
       "      <td>4</td>\n",
       "      <td>-87.76745055</td>\n",
       "      <td>41.87702418</td>\n",
       "    </tr>\n",
       "    <tr>\n",
       "      <th>4</th>\n",
       "      <td>11.2</td>\n",
       "      <td>74.0</td>\n",
       "      <td>LOTUS</td>\n",
       "      <td>WEEKDAY</td>\n",
       "      <td>2012-10-01T00:00:00.000</td>\n",
       "      <td>JACKSON</td>\n",
       "      <td>126</td>\n",
       "      <td>6</td>\n",
       "      <td>-87.761446</td>\n",
       "      <td>41.876513</td>\n",
       "    </tr>\n",
       "  </tbody>\n",
       "</table>\n",
       "</div>"
      ],
      "text/plain": [
       "  alightings boardings         cross_street day_type          month_beginning  \\\n",
       "0      150.0     183.4               AUSTIN  WEEKDAY  2012-10-01T00:00:00.000   \n",
       "1        0.2       5.3  MAYFIELD (EXTENDED)  WEEKDAY  2012-10-01T00:00:00.000   \n",
       "2        0.7       8.3               MENARD  WEEKDAY  2012-10-01T00:00:00.000   \n",
       "3        3.0      17.9            5700 WEST  WEEKDAY  2012-10-01T00:00:00.000   \n",
       "4       11.2      74.0                LOTUS  WEEKDAY  2012-10-01T00:00:00.000   \n",
       "\n",
       "  on_street routes stop_id     longitude     latitude  \n",
       "0   JACKSON    126       1  -87.77410482  41.87632184  \n",
       "1   JACKSON    126       2  -87.77131794  41.87706679  \n",
       "2   JACKSON    126       3  -87.76975039  41.87695725  \n",
       "3   JACKSON    126       4  -87.76745055  41.87702418  \n",
       "4   JACKSON    126       6    -87.761446    41.876513  "
      ]
     },
     "execution_count": 12,
     "metadata": {},
     "output_type": "execute_result"
    }
   ],
   "source": [
    "# convert day_type to uppercase to match string format across columns\n",
    "cta_df['day_type'] = cta_df['day_type'].str.upper()\n",
    "cta_df.head()\n"
   ]
  },
  {
   "cell_type": "markdown",
   "metadata": {},
   "source": [
    "### Step 5: Set column data types"
   ]
  },
  {
   "cell_type": "code",
   "execution_count": 13,
   "metadata": {},
   "outputs": [
    {
     "data": {
      "text/plain": [
       "alightings                float64\n",
       "boardings                 float64\n",
       "cross_street               object\n",
       "day_type                   object\n",
       "month_beginning    datetime64[ns]\n",
       "on_street                  object\n",
       "routes                     object\n",
       "stop_id                     int64\n",
       "longitude                 float64\n",
       "latitude                  float64\n",
       "dtype: object"
      ]
     },
     "execution_count": 13,
     "metadata": {},
     "output_type": "execute_result"
    }
   ],
   "source": [
    "# convert month_beginning to datetime object\n",
    "cta_df['month_beginning'] = pd.to_datetime(cta_df['month_beginning'])\n",
    "\n",
    "# convert columns proper data types\n",
    "cta_df = cta_df.astype({'alightings':float, \n",
    "                        'boardings':float,\n",
    "                        'stop_id':int,\n",
    "                        'longitude':float,\n",
    "                        'latitude':float})\n",
    "\n",
    "# print the data types after converting them\n",
    "cta_df.dtypes\n"
   ]
  },
  {
   "cell_type": "markdown",
   "metadata": {},
   "source": [
    "### Step 6: Reorder columns"
   ]
  },
  {
   "cell_type": "code",
   "execution_count": 14,
   "metadata": {},
   "outputs": [
    {
     "data": {
      "text/html": [
       "<div>\n",
       "<style scoped>\n",
       "    .dataframe tbody tr th:only-of-type {\n",
       "        vertical-align: middle;\n",
       "    }\n",
       "\n",
       "    .dataframe tbody tr th {\n",
       "        vertical-align: top;\n",
       "    }\n",
       "\n",
       "    .dataframe thead th {\n",
       "        text-align: right;\n",
       "    }\n",
       "</style>\n",
       "<table border=\"1\" class=\"dataframe\">\n",
       "  <thead>\n",
       "    <tr style=\"text-align: right;\">\n",
       "      <th></th>\n",
       "      <th>stop_id</th>\n",
       "      <th>on_street</th>\n",
       "      <th>cross_street</th>\n",
       "      <th>routes</th>\n",
       "      <th>boardings</th>\n",
       "      <th>alightings</th>\n",
       "      <th>month_beginning</th>\n",
       "      <th>day_type</th>\n",
       "      <th>longitude</th>\n",
       "      <th>latitude</th>\n",
       "    </tr>\n",
       "  </thead>\n",
       "  <tbody>\n",
       "    <tr>\n",
       "      <th>0</th>\n",
       "      <td>1</td>\n",
       "      <td>JACKSON</td>\n",
       "      <td>AUSTIN</td>\n",
       "      <td>126</td>\n",
       "      <td>183.4</td>\n",
       "      <td>150.0</td>\n",
       "      <td>2012-10-01</td>\n",
       "      <td>WEEKDAY</td>\n",
       "      <td>-87.774105</td>\n",
       "      <td>41.876322</td>\n",
       "    </tr>\n",
       "    <tr>\n",
       "      <th>1</th>\n",
       "      <td>2</td>\n",
       "      <td>JACKSON</td>\n",
       "      <td>MAYFIELD (EXTENDED)</td>\n",
       "      <td>126</td>\n",
       "      <td>5.3</td>\n",
       "      <td>0.2</td>\n",
       "      <td>2012-10-01</td>\n",
       "      <td>WEEKDAY</td>\n",
       "      <td>-87.771318</td>\n",
       "      <td>41.877067</td>\n",
       "    </tr>\n",
       "    <tr>\n",
       "      <th>2</th>\n",
       "      <td>3</td>\n",
       "      <td>JACKSON</td>\n",
       "      <td>MENARD</td>\n",
       "      <td>126</td>\n",
       "      <td>8.3</td>\n",
       "      <td>0.7</td>\n",
       "      <td>2012-10-01</td>\n",
       "      <td>WEEKDAY</td>\n",
       "      <td>-87.769750</td>\n",
       "      <td>41.876957</td>\n",
       "    </tr>\n",
       "    <tr>\n",
       "      <th>3</th>\n",
       "      <td>4</td>\n",
       "      <td>JACKSON</td>\n",
       "      <td>5700 WEST</td>\n",
       "      <td>126</td>\n",
       "      <td>17.9</td>\n",
       "      <td>3.0</td>\n",
       "      <td>2012-10-01</td>\n",
       "      <td>WEEKDAY</td>\n",
       "      <td>-87.767451</td>\n",
       "      <td>41.877024</td>\n",
       "    </tr>\n",
       "    <tr>\n",
       "      <th>4</th>\n",
       "      <td>6</td>\n",
       "      <td>JACKSON</td>\n",
       "      <td>LOTUS</td>\n",
       "      <td>126</td>\n",
       "      <td>74.0</td>\n",
       "      <td>11.2</td>\n",
       "      <td>2012-10-01</td>\n",
       "      <td>WEEKDAY</td>\n",
       "      <td>-87.761446</td>\n",
       "      <td>41.876513</td>\n",
       "    </tr>\n",
       "  </tbody>\n",
       "</table>\n",
       "</div>"
      ],
      "text/plain": [
       "   stop_id on_street         cross_street routes  boardings  alightings  \\\n",
       "0        1   JACKSON               AUSTIN    126      183.4       150.0   \n",
       "1        2   JACKSON  MAYFIELD (EXTENDED)    126        5.3         0.2   \n",
       "2        3   JACKSON               MENARD    126        8.3         0.7   \n",
       "3        4   JACKSON            5700 WEST    126       17.9         3.0   \n",
       "4        6   JACKSON                LOTUS    126       74.0        11.2   \n",
       "\n",
       "  month_beginning day_type  longitude   latitude  \n",
       "0      2012-10-01  WEEKDAY -87.774105  41.876322  \n",
       "1      2012-10-01  WEEKDAY -87.771318  41.877067  \n",
       "2      2012-10-01  WEEKDAY -87.769750  41.876957  \n",
       "3      2012-10-01  WEEKDAY -87.767451  41.877024  \n",
       "4      2012-10-01  WEEKDAY -87.761446  41.876513  "
      ]
     },
     "execution_count": 14,
     "metadata": {},
     "output_type": "execute_result"
    }
   ],
   "source": [
    "# reorder columns in dataframe\n",
    "cta_df = cta_df[['stop_id', 'on_street', \n",
    "                 'cross_street', 'routes',\n",
    "                 'boardings', 'alightings', \n",
    "                 'month_beginning', 'day_type',\n",
    "                 'longitude', 'latitude']]\n",
    "cta_df.head()\n"
   ]
  },
  {
   "cell_type": "markdown",
   "metadata": {},
   "source": [
    "## Normalize Data (Transform)\n",
    "While investigating the data, I noticed the data set was not normalized. At a glance there’s not a lot wrong with the data. It’s exactly what you would expect to see in a *CTA Ridership Avgerage Weekday Bus Stop Boardings Report*. However, it’s not how we should be storing data. There are a number of reasons why. Part of it is just efficiency, part of it is simplifying the queries, and the other part is to minize or avoid data modification issues.\n",
    "\n",
    "Database normalization is process used to organize a database into tables and columns. The idea is that a table should be about a specific topic and that only those columns which support that topic are included. \n",
    "\n",
    "One of the main reasons for normalizing the data set was how the `routes` information was stored. Routes were concatenated together for every stop. In order to simplify my queries and minimize or avoid data modification issues, I split (or exploded) every route and stop into discrete values. For example, instead of `stop_id=10647` and `routes=12,10,122,123,124`, I split all of the routes into seperate rows with `stop_id`. \n",
    "\n",
    "I'm going to split the data into three tables: \n",
    "1. `bus_stops:` Main table consisting of bus stop's street, cross street, and coordinates.\n",
    "2. `bus_routes:` Individual bus routes and stops; references `bus_stops` table by `stop_id`.\n",
    "3. `bus_ridership:`Bus boardings and alightings for each stop on a weekday basis; references `bus_stops` table by `stop_id`."
   ]
  },
  {
   "cell_type": "markdown",
   "metadata": {},
   "source": [
    "### Bus stops table"
   ]
  },
  {
   "cell_type": "code",
   "execution_count": 15,
   "metadata": {},
   "outputs": [
    {
     "data": {
      "text/html": [
       "<div>\n",
       "<style scoped>\n",
       "    .dataframe tbody tr th:only-of-type {\n",
       "        vertical-align: middle;\n",
       "    }\n",
       "\n",
       "    .dataframe tbody tr th {\n",
       "        vertical-align: top;\n",
       "    }\n",
       "\n",
       "    .dataframe thead th {\n",
       "        text-align: right;\n",
       "    }\n",
       "</style>\n",
       "<table border=\"1\" class=\"dataframe\">\n",
       "  <thead>\n",
       "    <tr style=\"text-align: right;\">\n",
       "      <th></th>\n",
       "      <th>on_street</th>\n",
       "      <th>cross_street</th>\n",
       "      <th>longitude</th>\n",
       "      <th>latitude</th>\n",
       "    </tr>\n",
       "    <tr>\n",
       "      <th>stop_id</th>\n",
       "      <th></th>\n",
       "      <th></th>\n",
       "      <th></th>\n",
       "      <th></th>\n",
       "    </tr>\n",
       "  </thead>\n",
       "  <tbody>\n",
       "    <tr>\n",
       "      <th>1</th>\n",
       "      <td>JACKSON</td>\n",
       "      <td>AUSTIN</td>\n",
       "      <td>-87.774105</td>\n",
       "      <td>41.876322</td>\n",
       "    </tr>\n",
       "    <tr>\n",
       "      <th>2</th>\n",
       "      <td>JACKSON</td>\n",
       "      <td>MAYFIELD (EXTENDED)</td>\n",
       "      <td>-87.771318</td>\n",
       "      <td>41.877067</td>\n",
       "    </tr>\n",
       "    <tr>\n",
       "      <th>3</th>\n",
       "      <td>JACKSON</td>\n",
       "      <td>MENARD</td>\n",
       "      <td>-87.769750</td>\n",
       "      <td>41.876957</td>\n",
       "    </tr>\n",
       "    <tr>\n",
       "      <th>4</th>\n",
       "      <td>JACKSON</td>\n",
       "      <td>5700 WEST</td>\n",
       "      <td>-87.767451</td>\n",
       "      <td>41.877024</td>\n",
       "    </tr>\n",
       "    <tr>\n",
       "      <th>6</th>\n",
       "      <td>JACKSON</td>\n",
       "      <td>LOTUS</td>\n",
       "      <td>-87.761446</td>\n",
       "      <td>41.876513</td>\n",
       "    </tr>\n",
       "  </tbody>\n",
       "</table>\n",
       "</div>"
      ],
      "text/plain": [
       "        on_street         cross_street  longitude   latitude\n",
       "stop_id                                                     \n",
       "1         JACKSON               AUSTIN -87.774105  41.876322\n",
       "2         JACKSON  MAYFIELD (EXTENDED) -87.771318  41.877067\n",
       "3         JACKSON               MENARD -87.769750  41.876957\n",
       "4         JACKSON            5700 WEST -87.767451  41.877024\n",
       "6         JACKSON                LOTUS -87.761446  41.876513"
      ]
     },
     "execution_count": 15,
     "metadata": {},
     "output_type": "execute_result"
    }
   ],
   "source": [
    "# create ridership table from cta_df\n",
    "bus_stops_df = cta_df.drop(columns=['routes', 'boardings', \n",
    "                                    'alightings', 'month_beginning',\n",
    "                                    'day_type'])\n",
    "\n",
    "# set stops dataframe index as stop_id\n",
    "bus_stops_df = bus_stops_df.set_index('stop_id')\n",
    "\n",
    "bus_stops_df.head()\n"
   ]
  },
  {
   "cell_type": "markdown",
   "metadata": {},
   "source": [
    "### Bus routes table"
   ]
  },
  {
   "cell_type": "code",
   "execution_count": 16,
   "metadata": {},
   "outputs": [
    {
     "name": "stdout",
     "output_type": "stream",
     "text": [
      "(15271, 2)\n"
     ]
    },
    {
     "data": {
      "text/html": [
       "<div>\n",
       "<style scoped>\n",
       "    .dataframe tbody tr th:only-of-type {\n",
       "        vertical-align: middle;\n",
       "    }\n",
       "\n",
       "    .dataframe tbody tr th {\n",
       "        vertical-align: top;\n",
       "    }\n",
       "\n",
       "    .dataframe thead th {\n",
       "        text-align: right;\n",
       "    }\n",
       "</style>\n",
       "<table border=\"1\" class=\"dataframe\">\n",
       "  <thead>\n",
       "    <tr style=\"text-align: right;\">\n",
       "      <th></th>\n",
       "      <th>stop_id</th>\n",
       "      <th>route</th>\n",
       "    </tr>\n",
       "    <tr>\n",
       "      <th>id</th>\n",
       "      <th></th>\n",
       "      <th></th>\n",
       "    </tr>\n",
       "  </thead>\n",
       "  <tbody>\n",
       "    <tr>\n",
       "      <th>0</th>\n",
       "      <td>1</td>\n",
       "      <td>126</td>\n",
       "    </tr>\n",
       "    <tr>\n",
       "      <th>1</th>\n",
       "      <td>2</td>\n",
       "      <td>126</td>\n",
       "    </tr>\n",
       "    <tr>\n",
       "      <th>2</th>\n",
       "      <td>3</td>\n",
       "      <td>126</td>\n",
       "    </tr>\n",
       "    <tr>\n",
       "      <th>3</th>\n",
       "      <td>4</td>\n",
       "      <td>126</td>\n",
       "    </tr>\n",
       "    <tr>\n",
       "      <th>4</th>\n",
       "      <td>6</td>\n",
       "      <td>126</td>\n",
       "    </tr>\n",
       "  </tbody>\n",
       "</table>\n",
       "</div>"
      ],
      "text/plain": [
       "    stop_id route\n",
       "id               \n",
       "0         1   126\n",
       "1         2   126\n",
       "2         3   126\n",
       "3         4   126\n",
       "4         6   126"
      ]
     },
     "execution_count": 16,
     "metadata": {},
     "output_type": "execute_result"
    }
   ],
   "source": [
    "# create a copy of the dataframe to explode the routes column into seperate rows\n",
    "bus_routes_df = cta_df.copy() \n",
    "bus_routes_df = bus_routes_df.drop(columns=['on_street', 'cross_street',\n",
    "                                            'boardings', 'alightings', \n",
    "                                            'month_beginning', 'day_type',\n",
    "                                            'longitude', 'latitude'])\n",
    "\n",
    "# explode routes column into discrete rows\n",
    "bus_routes_df = pd.DataFrame(bus_routes_df.routes.str.split(',').tolist(),\n",
    "                             index=bus_routes_df.stop_id).stack()\n",
    "\n",
    "# reset index and rename 0 to stop_id\n",
    "bus_routes_df = bus_routes_df.reset_index()[[0, 'stop_id']] \n",
    "bus_routes_df.columns = ['route', 'stop_id']\n",
    "\n",
    "# set routes dataframe index name as id\n",
    "bus_routes_df.index.name = 'id'\n",
    "\n",
    "# reorder columns\n",
    "bus_routes_df = bus_routes_df[['stop_id','route']]\n",
    "\n",
    "# print the new dataframe shape and head\n",
    "print(bus_routes_df.shape)\n",
    "bus_routes_df.head()\n"
   ]
  },
  {
   "cell_type": "markdown",
   "metadata": {},
   "source": [
    "### Bus ridership table"
   ]
  },
  {
   "cell_type": "code",
   "execution_count": 17,
   "metadata": {},
   "outputs": [
    {
     "data": {
      "text/html": [
       "<div>\n",
       "<style scoped>\n",
       "    .dataframe tbody tr th:only-of-type {\n",
       "        vertical-align: middle;\n",
       "    }\n",
       "\n",
       "    .dataframe tbody tr th {\n",
       "        vertical-align: top;\n",
       "    }\n",
       "\n",
       "    .dataframe thead th {\n",
       "        text-align: right;\n",
       "    }\n",
       "</style>\n",
       "<table border=\"1\" class=\"dataframe\">\n",
       "  <thead>\n",
       "    <tr style=\"text-align: right;\">\n",
       "      <th></th>\n",
       "      <th>stop_id</th>\n",
       "      <th>boardings</th>\n",
       "      <th>alightings</th>\n",
       "      <th>month_beginning</th>\n",
       "      <th>day_type</th>\n",
       "    </tr>\n",
       "    <tr>\n",
       "      <th>id</th>\n",
       "      <th></th>\n",
       "      <th></th>\n",
       "      <th></th>\n",
       "      <th></th>\n",
       "      <th></th>\n",
       "    </tr>\n",
       "  </thead>\n",
       "  <tbody>\n",
       "    <tr>\n",
       "      <th>0</th>\n",
       "      <td>1</td>\n",
       "      <td>183.4</td>\n",
       "      <td>150.0</td>\n",
       "      <td>2012-10-01</td>\n",
       "      <td>WEEKDAY</td>\n",
       "    </tr>\n",
       "    <tr>\n",
       "      <th>1</th>\n",
       "      <td>2</td>\n",
       "      <td>5.3</td>\n",
       "      <td>0.2</td>\n",
       "      <td>2012-10-01</td>\n",
       "      <td>WEEKDAY</td>\n",
       "    </tr>\n",
       "    <tr>\n",
       "      <th>2</th>\n",
       "      <td>3</td>\n",
       "      <td>8.3</td>\n",
       "      <td>0.7</td>\n",
       "      <td>2012-10-01</td>\n",
       "      <td>WEEKDAY</td>\n",
       "    </tr>\n",
       "    <tr>\n",
       "      <th>3</th>\n",
       "      <td>4</td>\n",
       "      <td>17.9</td>\n",
       "      <td>3.0</td>\n",
       "      <td>2012-10-01</td>\n",
       "      <td>WEEKDAY</td>\n",
       "    </tr>\n",
       "    <tr>\n",
       "      <th>4</th>\n",
       "      <td>6</td>\n",
       "      <td>74.0</td>\n",
       "      <td>11.2</td>\n",
       "      <td>2012-10-01</td>\n",
       "      <td>WEEKDAY</td>\n",
       "    </tr>\n",
       "  </tbody>\n",
       "</table>\n",
       "</div>"
      ],
      "text/plain": [
       "    stop_id  boardings  alightings month_beginning day_type\n",
       "id                                                         \n",
       "0         1      183.4       150.0      2012-10-01  WEEKDAY\n",
       "1         2        5.3         0.2      2012-10-01  WEEKDAY\n",
       "2         3        8.3         0.7      2012-10-01  WEEKDAY\n",
       "3         4       17.9         3.0      2012-10-01  WEEKDAY\n",
       "4         6       74.0        11.2      2012-10-01  WEEKDAY"
      ]
     },
     "execution_count": 17,
     "metadata": {},
     "output_type": "execute_result"
    }
   ],
   "source": [
    "# create ridership table from cta_df\n",
    "bus_ridership_df = cta_df.drop(columns=['routes', 'on_street',\n",
    "                                        'cross_street', 'longitude', \n",
    "                                        'latitude'])\n",
    "\n",
    "# set ridership dataframe index name as id\n",
    "bus_ridership_df.index.name = 'id'\n",
    "\n",
    "# print top rows\n",
    "bus_ridership_df.head()\n"
   ]
  },
  {
   "cell_type": "markdown",
   "metadata": {},
   "source": [
    "## Store Data in SQLite (Load)\n",
    "I'm going to storing my data in a SQLite3 database. First, I will create the tables in the database. Then I will load the data into the tables. \n",
    "\n",
    "**Database model:**\n",
    "![title](database/cta_bus_ridership_database_model.png)"
   ]
  },
  {
   "cell_type": "code",
   "execution_count": 18,
   "metadata": {},
   "outputs": [],
   "source": [
    "import sqlite3\n",
    "\n",
    "# helper functions for sqlite3 \n",
    "def connect(sqlite_file):\n",
    "    \"\"\"\n",
    "    Make connection to an SQLite database file.\n",
    "    \"\"\"\n",
    "    conn = sqlite3.connect(sqlite_file)\n",
    "    c = conn.cursor()\n",
    "    return conn, c\n",
    "\n",
    "def close(conn):\n",
    "    \"\"\" \n",
    "    Commit changes and close connection to the database.\n",
    "    \"\"\"\n",
    "    conn.close()\n"
   ]
  },
  {
   "cell_type": "code",
   "execution_count": 19,
   "metadata": {},
   "outputs": [],
   "source": [
    "# sql_db is my connection and sql_command is my cursor for sqlite3\n",
    "sql_db, sql_command = connect('database/cta_bus_ridership.db')\n"
   ]
  },
  {
   "cell_type": "markdown",
   "metadata": {},
   "source": [
    "### Create tables in database"
   ]
  },
  {
   "cell_type": "code",
   "execution_count": 20,
   "metadata": {},
   "outputs": [
    {
     "data": {
      "text/plain": [
       "<sqlite3.Cursor at 0x10f534ce0>"
      ]
     },
     "execution_count": 20,
     "metadata": {},
     "output_type": "execute_result"
    }
   ],
   "source": [
    "# sql create command for tables\n",
    "cta_bus_ridership_tables = \"\"\"CREATE TABLE bus_stops (\n",
    "                                stop_id INTEGER PRIMARY KEY,\n",
    "                                on_street VARCHAR(30),\n",
    "                                cross_street VARCHAR(30),\n",
    "                                longitude REAL, \n",
    "                                latitude REAL\n",
    "                                );\n",
    "                                \n",
    "                            CREATE TABLE bus_routes (\n",
    "                                id INTEGER PRIMARY KEY,\n",
    "                                stop_id INTEGER,\n",
    "                                route VARCHAR(20),\n",
    "                                FOREIGN KEY(stop_id) REFERENCES bus_stops(stop_id)\n",
    "                                );\n",
    "                                \n",
    "                            CREATE TABLE bus_ridership (\n",
    "                                id INTEGER PRIMARY KEY,\n",
    "                                stop_id INTEGER,\n",
    "                                boardings REAL,\n",
    "                                alightings REAL,\n",
    "                                month_beginning DATETIME, \n",
    "                                day_type VARCHAR(15),\n",
    "                                FOREIGN KEY(stop_id) REFERENCES bus_stops(stop_id)\n",
    "                                );\"\"\"\n",
    "\n",
    "sql_command.executescript(cta_bus_ridership_tables)\n"
   ]
  },
  {
   "cell_type": "markdown",
   "metadata": {},
   "source": [
    "### Load dataframes into database tables"
   ]
  },
  {
   "cell_type": "code",
   "execution_count": 21,
   "metadata": {},
   "outputs": [],
   "source": [
    "# load dataframes into sql tables\n",
    "bus_stops_df.to_sql(name='bus_stops', con=sql_db,\n",
    "                    if_exists='append', index=True)\n",
    "\n",
    "bus_routes_df.to_sql(name='bus_routes', con=sql_db,\n",
    "                     if_exists='append', index=True)\n",
    "\n",
    "bus_ridership_df.to_sql(name='bus_ridership', con=sql_db,\n",
    "                        if_exists='append', index=True)\n"
   ]
  },
  {
   "cell_type": "markdown",
   "metadata": {},
   "source": [
    "## See you in CTA Analysis - Part 2 !\n",
    "Now that my data is clean and normalized in a SQLite database, I'm ready to build a story and produce insights of data. "
   ]
  }
 ],
 "metadata": {
  "kernelspec": {
   "display_name": "Python 3",
   "language": "python",
   "name": "python3"
  },
  "language_info": {
   "codemirror_mode": {
    "name": "ipython",
    "version": 3
   },
   "file_extension": ".py",
   "mimetype": "text/x-python",
   "name": "python",
   "nbconvert_exporter": "python",
   "pygments_lexer": "ipython3",
   "version": "3.6.5"
  }
 },
 "nbformat": 4,
 "nbformat_minor": 2
}
