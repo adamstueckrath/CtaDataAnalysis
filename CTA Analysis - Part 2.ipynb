{
 "cells": [
  {
   "cell_type": "markdown",
   "metadata": {},
   "source": [
    "# CTA Analysis - Visualizations\n",
    "---"
   ]
  },
  {
   "cell_type": "markdown",
   "metadata": {},
   "source": [
    "CTA - Ridership - Avg. Weekday Bus Stop Boardings in October 2012\n",
    "This dataset shows approximate, average, weekday boardings by bus stop from the month of October 2012.\n",
    "\n",
    "* `stop_id:` \n",
    "* `on_street:`\n",
    "* `cross_street:`\n",
    "* `routes:`\n",
    "* `month_beginning:`\n",
    "* `day_type:`\n",
    "* `location:`\n",
    "* `boardings:` the number of passengers boarding a bus\n",
    "* `alightings:` the number of passengers exiting a bus \n"
   ]
  },
  {
   "cell_type": "markdown",
   "metadata": {},
   "source": [
    "Ridership Readme \n",
    "12-Aug-2011\n",
    "Chicago Transit Authority\n",
    "\n",
    "* About CTA ridership numbers *\n",
    "Ridership statistics are provided on a system-wide and bus route/station-level basis. Ridership is primarily counted as boardings, that is, customers boarding a transit vehicle (bus or rail).  On the rail system, there is a distinction between station entries and total rides, or boardings. Datasets indicate such in their file name and description.\n",
    "\n",
    "* How people are counted on the 'L' *\n",
    "On the rail system, a customer is counted as an \"entry\" each time he or she passes through a turnstile to enter a station.  Customers are not counted as \"entries\" when they make a \"cross-platform\" transfer from one rail line to another, since they don't pass through a turnstile. Where the number given for rail is in \"boardings,\" what's presented is a statistically valid estimate of the actual number of boardings onto the rail system. \n",
    "\n",
    "* How people are counted on buses *\n",
    "Boardings are recorded using the bus farebox and farecard reader. In the uncommon situation when there is an operating error with the farebox and the onboard systems cannot determine on which route a given trip's boardings should be allocated, these boardings are tallied as Route 0 in some reports.  Route 1001 are shuttle buses used for construction or other unforeseen events.\n",
    "\n",
    "* \"Daytype\" *\n",
    "Daytype fields in the data are coded as \"W\" for Weekday, \"A\" for Saturday and \"U\" for Sunday/Holidays.  Note that New Year's Day, Memorial Day, Independence Day, Labor Day, Thanksgiving, and Christmas Day are considered as \"Sundays\" for the purposes of ridership reporting.  All other holidays are reported as the type of day they fall on."
   ]
  },
  {
   "cell_type": "code",
   "execution_count": 2,
   "metadata": {},
   "outputs": [],
   "source": [
    "import collections\n",
    "import itertools\n",
    "import sqlite3\n",
    "import pandas as pd\n",
    "import numpy as np\n",
    "\n",
    "# import visualizations libraries\n",
    "import folium\n",
    "import matplotlib.pyplot as plt\n",
    "import seaborn as sns\n",
    "from folium import plugins\n",
    "\n",
    "%matplotlib inline"
   ]
  },
  {
   "cell_type": "code",
   "execution_count": 3,
   "metadata": {},
   "outputs": [],
   "source": [
    "# helper functions for sqlite3 \n",
    "def connect(sqlite_file):\n",
    "    \"\"\"\n",
    "    Make connection to an SQLite database file.\n",
    "    \"\"\"\n",
    "    conn = sqlite3.connect(sqlite_file)\n",
    "    c = conn.cursor()\n",
    "    return conn, c\n",
    "\n",
    "def close(conn):\n",
    "    \"\"\" \n",
    "    Commit changes and close connection to the database.\n",
    "    \"\"\"\n",
    "    conn.close()\n",
    "    \n",
    "def table_col_info(cursor, table_name, print_out=False):\n",
    "    \"\"\"\n",
    "    Returns a list of tuples with column informations:\n",
    "    (id, name, type, notnull, default_value, primary_key)\n",
    "    \"\"\"\n",
    "    cursor.execute('PRAGMA TABLE_INFO({})'.format(table_name))\n",
    "    info = cursor.fetchall()\n",
    "\n",
    "    if print_out:\n",
    "        print(\"\\nColumn Info:\\nID, Name, Type, NotNull, DefaultVal, PrimaryKey\")\n",
    "        for col in info:\n",
    "            print(col)\n",
    "    return info"
   ]
  },
  {
   "cell_type": "code",
   "execution_count": 4,
   "metadata": {},
   "outputs": [],
   "source": [
    "# db is my connection and sql_command is my cursor\n",
    "db, sql_command = connect('cta_bus_ridership.db')\n"
   ]
  },
  {
   "cell_type": "code",
   "execution_count": 5,
   "metadata": {},
   "outputs": [
    {
     "data": {
      "text/html": [
       "<div>\n",
       "<style scoped>\n",
       "    .dataframe tbody tr th:only-of-type {\n",
       "        vertical-align: middle;\n",
       "    }\n",
       "\n",
       "    .dataframe tbody tr th {\n",
       "        vertical-align: top;\n",
       "    }\n",
       "\n",
       "    .dataframe thead th {\n",
       "        text-align: right;\n",
       "    }\n",
       "</style>\n",
       "<table border=\"1\" class=\"dataframe\">\n",
       "  <thead>\n",
       "    <tr style=\"text-align: right;\">\n",
       "      <th></th>\n",
       "      <th>stop_id</th>\n",
       "      <th>on_street</th>\n",
       "      <th>cross_street</th>\n",
       "      <th>longitude</th>\n",
       "      <th>latitude</th>\n",
       "    </tr>\n",
       "  </thead>\n",
       "  <tbody>\n",
       "    <tr>\n",
       "      <th>0</th>\n",
       "      <td>1</td>\n",
       "      <td>JACKSON</td>\n",
       "      <td>AUSTIN</td>\n",
       "      <td>-87.774105</td>\n",
       "      <td>41.876322</td>\n",
       "    </tr>\n",
       "    <tr>\n",
       "      <th>1</th>\n",
       "      <td>2</td>\n",
       "      <td>JACKSON</td>\n",
       "      <td>MAYFIELD (EXTENDED)</td>\n",
       "      <td>-87.771318</td>\n",
       "      <td>41.877067</td>\n",
       "    </tr>\n",
       "    <tr>\n",
       "      <th>2</th>\n",
       "      <td>3</td>\n",
       "      <td>JACKSON</td>\n",
       "      <td>MENARD</td>\n",
       "      <td>-87.769750</td>\n",
       "      <td>41.876957</td>\n",
       "    </tr>\n",
       "    <tr>\n",
       "      <th>3</th>\n",
       "      <td>4</td>\n",
       "      <td>JACKSON</td>\n",
       "      <td>5700 WEST</td>\n",
       "      <td>-87.767451</td>\n",
       "      <td>41.877024</td>\n",
       "    </tr>\n",
       "    <tr>\n",
       "      <th>4</th>\n",
       "      <td>6</td>\n",
       "      <td>JACKSON</td>\n",
       "      <td>LOTUS</td>\n",
       "      <td>-87.761446</td>\n",
       "      <td>41.876513</td>\n",
       "    </tr>\n",
       "  </tbody>\n",
       "</table>\n",
       "</div>"
      ],
      "text/plain": [
       "   stop_id on_street         cross_street  longitude   latitude\n",
       "0        1   JACKSON               AUSTIN -87.774105  41.876322\n",
       "1        2   JACKSON  MAYFIELD (EXTENDED) -87.771318  41.877067\n",
       "2        3   JACKSON               MENARD -87.769750  41.876957\n",
       "3        4   JACKSON            5700 WEST -87.767451  41.877024\n",
       "4        6   JACKSON                LOTUS -87.761446  41.876513"
      ]
     },
     "execution_count": 5,
     "metadata": {},
     "output_type": "execute_result"
    }
   ],
   "source": [
    "test_map = pd.read_sql_query(\"select * from bus_stops;\", db)\n",
    "test_map.head()\n"
   ]
  },
  {
   "cell_type": "code",
   "execution_count": null,
   "metadata": {},
   "outputs": [],
   "source": [
    "test_map['new_col'] = list(zip(test_map.latitude, test_map.longitude))\n",
    "test_map.dtypes"
   ]
  },
  {
   "cell_type": "code",
   "execution_count": null,
   "metadata": {},
   "outputs": [],
   "source": [
    "m = folium.Map([41.8781, -87.6298], zoom_start=11)\n",
    "m"
   ]
  },
  {
   "cell_type": "code",
   "execution_count": null,
   "metadata": {},
   "outputs": [],
   "source": [
    "points = test_map.new_col.tolist()\n",
    "folium.PolyLine(points).add_to(m)\n",
    "m"
   ]
  },
  {
   "cell_type": "code",
   "execution_count": null,
   "metadata": {},
   "outputs": [],
   "source": [
    "num_routes = '''SELECT stop_id\n",
    "            ,on_street\n",
    "            ,cross_street\n",
    "            ,COUNT(*) AS num_routes \n",
    "             FROM stop_routes \n",
    "             JOIN stops ON stops.id = stop_id\n",
    "             GROUP BY stop_id \n",
    "             ORDER BY num_routes DESC LIMIT 10'''\n",
    "\n",
    "longest_route = '''SELECT route\n",
    "\t\t\t,on_street\n",
    "\t\t\t,COUNT(*) AS num_stops\n",
    "\t\t\t FROM stop_routes \n",
    "\t\t\t JOIN stops ON stops.id = stop_id\n",
    "\t\t\t GROUP BY route \n",
    "\t\t\t ORDER BY num_stops DESC LIMIT 10'''\n",
    "\n",
    "most_boardings = '''SELECT stop_id\n",
    "\t\t\t\t,on_street\n",
    "\t\t\t\t,cross_street\n",
    "\t\t\t\t,boardings\n",
    "\t\t\t\t,alightings\n",
    "\t\t\t\tFROM boardings\n",
    "\t\t\t\tJOIN stops ON stops.id = stop_id\n",
    "\t\t\t\tORDER BY boardings DESC LIMIT 10'''\n",
    "\n",
    "most_alightings = '''SELECT stop_id\n",
    "\t\t\t\t,on_street\n",
    "\t\t\t\t,cross_street\n",
    "\t\t\t\t,alightings\n",
    "\t\t\t\t,boardings\n",
    "\t\t\t\tFROM boardings\n",
    "\t\t\t\tJOIN stops ON stops.id = stop_id\n",
    "\t\t\t\tORDER BY alightings DESC LIMIT 10'''\n",
    "\n",
    "rail_transfers = '''SELECT\n",
    "\t\t\t\t\tGET_STATION(cross_street) AS line\n",
    "\t\t\t\t\t,SUM(alightings)\n",
    "\t\t\t\t\tFROM stops\n",
    "\t\t\t\t\tJOIN boardings ON stop_id = stops.id\n",
    "\t\t\t\t\tWHERE cross_street LIKE '%blue%line%' \n",
    "\t\t\t\t\tOR cross_street LIKE '%red%line%'\n",
    "\t\t\t\t\tOR cross_street LIKE '%brown%line%'\n",
    "\t\t\t\t\tOR cross_street LIKE '%purple%line%'\n",
    "\t\t\t\t\tOR cross_street LIKE '%green%line%'\n",
    "\t\t\t\t\tOR cross_street LIKE '%orange%line%'\n",
    "\t\t\t\t\tGROUP BY line\n",
    "\t\t\t\t\tORDER BY alightings DESC'''\n",
    "\t\t\t\t\t\n",
    "rail_transfers_from_train = '''SELECT\n",
    "\t\t\t\t\tGET_STATION(cross_street) AS line\n",
    "\t\t\t\t\t,SUM(boardings)\n",
    "\t\t\t\t\tFROM stops\n",
    "\t\t\t\t\tJOIN boardings ON stop_id = stops.id\n",
    "\t\t\t\t\tWHERE cross_street LIKE '%blue%line%' \n",
    "\t\t\t\t\tOR cross_street LIKE '%red%line%'\n",
    "\t\t\t\t\tOR cross_street LIKE '%brown%line%'\n",
    "\t\t\t\t\tOR cross_street LIKE '%purple%line%'\n",
    "\t\t\t\t\tOR cross_street LIKE '%green%line%'\n",
    "\t\t\t\t\tOR cross_street LIKE '%orange%line%'\n",
    "\t\t\t\t\tGROUP BY line\n",
    "\t\t\t\t\tORDER BY boardings DESC'''\n",
    "\t"
   ]
  },
  {
   "cell_type": "code",
   "execution_count": null,
   "metadata": {},
   "outputs": [],
   "source": [
    "# # https://stackoverflow.com/questions/36392735/how-to-combine-multiple-rows-into-a-single-row-with-pandas\n",
    "# t = b.groupby('stop_id')['route'].apply(','.join).reset_index()\n",
    "# t.head()\n"
   ]
  }
 ],
 "metadata": {
  "kernelspec": {
   "display_name": "Python 3",
   "language": "python",
   "name": "python3"
  },
  "language_info": {
   "codemirror_mode": {
    "name": "ipython",
    "version": 3
   },
   "file_extension": ".py",
   "mimetype": "text/x-python",
   "name": "python",
   "nbconvert_exporter": "python",
   "pygments_lexer": "ipython3",
   "version": "3.6.5"
  }
 },
 "nbformat": 4,
 "nbformat_minor": 2
}
