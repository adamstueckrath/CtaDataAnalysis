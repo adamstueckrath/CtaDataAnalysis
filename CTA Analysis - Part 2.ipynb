{
 "cells": [
  {
   "cell_type": "markdown",
   "metadata": {},
   "source": [
    "# CTA Analysis - Visualizations\n",
    "---"
   ]
  },
  {
   "cell_type": "markdown",
   "metadata": {},
   "source": [
    "CTA - Ridership - Avg. Weekday Bus Stop Boardings in October 2012\n",
    "This dataset shows approximate, average, weekday boardings by bus stop from the month of October 2012.\n",
    "\n",
    "* `stop_id:` \n",
    "* `on_street:`\n",
    "* `cross_street:`\n",
    "* `routes:`\n",
    "* `month_beginning:`\n",
    "* `day_type:`\n",
    "* `location:`\n",
    "* `boardings:` the number of passengers boarding a bus\n",
    "* `alightings:` the number of passengers exiting a bus \n"
   ]
  },
  {
   "cell_type": "markdown",
   "metadata": {},
   "source": [
    "Ridership Readme \n",
    "12-Aug-2011\n",
    "Chicago Transit Authority\n",
    "\n",
    "* About CTA ridership numbers *\n",
    "Ridership statistics are provided on a system-wide and bus route/station-level basis. Ridership is primarily counted as boardings, that is, customers boarding a transit vehicle (bus or rail).  On the rail system, there is a distinction between station entries and total rides, or boardings. Datasets indicate such in their file name and description.\n",
    "\n",
    "* How people are counted on the 'L' *\n",
    "On the rail system, a customer is counted as an \"entry\" each time he or she passes through a turnstile to enter a station.  Customers are not counted as \"entries\" when they make a \"cross-platform\" transfer from one rail line to another, since they don't pass through a turnstile. Where the number given for rail is in \"boardings,\" what's presented is a statistically valid estimate of the actual number of boardings onto the rail system. \n",
    "\n",
    "* How people are counted on buses *\n",
    "Boardings are recorded using the bus farebox and farecard reader. In the uncommon situation when there is an operating error with the farebox and the onboard systems cannot determine on which route a given trip's boardings should be allocated, these boardings are tallied as Route 0 in some reports.  Route 1001 are shuttle buses used for construction or other unforeseen events.\n",
    "\n",
    "* \"Daytype\" *\n",
    "Daytype fields in the data are coded as \"W\" for Weekday, \"A\" for Saturday and \"U\" for Sunday/Holidays.  Note that New Year's Day, Memorial Day, Independence Day, Labor Day, Thanksgiving, and Christmas Day are considered as \"Sundays\" for the purposes of ridership reporting.  All other holidays are reported as the type of day they fall on."
   ]
  },
  {
   "cell_type": "code",
   "execution_count": 3,
   "metadata": {},
   "outputs": [],
   "source": [
    "import pandas as pd\n",
    "import collections\n",
    "import itertools\n",
    "\n",
    "# visualization libraries \n",
    "# import folium as fl\n",
    "# import matplotlib \n",
    "# from matplotlib import plot as plt\n"
   ]
  },
  {
   "cell_type": "code",
   "execution_count": null,
   "metadata": {},
   "outputs": [],
   "source": []
  },
  {
   "cell_type": "code",
   "execution_count": null,
   "metadata": {},
   "outputs": [],
   "source": [
    "# # https://stackoverflow.com/questions/36392735/how-to-combine-multiple-rows-into-a-single-row-with-pandas\n",
    "# t = b.groupby('stop_id')['route'].apply(','.join).reset_index()\n",
    "# t.head()\n"
   ]
  },
  {
   "cell_type": "code",
   "execution_count": null,
   "metadata": {},
   "outputs": [],
   "source": []
  },
  {
   "cell_type": "code",
   "execution_count": null,
   "metadata": {},
   "outputs": [],
   "source": []
  },
  {
   "cell_type": "code",
   "execution_count": null,
   "metadata": {},
   "outputs": [],
   "source": []
  },
  {
   "cell_type": "code",
   "execution_count": null,
   "metadata": {},
   "outputs": [],
   "source": []
  },
  {
   "cell_type": "code",
   "execution_count": null,
   "metadata": {},
   "outputs": [],
   "source": []
  }
 ],
 "metadata": {
  "kernelspec": {
   "display_name": "Python 3",
   "language": "python",
   "name": "python3"
  },
  "language_info": {
   "codemirror_mode": {
    "name": "ipython",
    "version": 3
   },
   "file_extension": ".py",
   "mimetype": "text/x-python",
   "name": "python",
   "nbconvert_exporter": "python",
   "pygments_lexer": "ipython3",
   "version": "3.6.5"
  }
 },
 "nbformat": 4,
 "nbformat_minor": 2
}
